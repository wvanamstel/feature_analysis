{
 "cells": [
  {
   "cell_type": "markdown",
   "metadata": {},
   "source": [
    "**Introduction**  \n",
    "The goal of the exercise is to determine which features are relevant in predicting whether a user will adopt the product. Adoption is defined as a user having used the product 3 times of more during a rolling 7 day period.\n",
    "\n",
    "A dataset of user attributes and a dataset of user engament are provided. From the user engagement dataset we can derive which users meet the criterion to be considered \"adopted users\".  \n",
    "The data with user attributes can be use to build the predictive model and investigate the predictive power of the features. Some of the features in the user attributes dataset are transformed while others are dropped (like name, email address). \n",
    "The categorical feature \"creation_source\" is split up into its components (\"dummy variables\"), giving us 5 extra feature columns. \n",
    "\n",
    "Some extra work can be done on feature engineering and finding additional source of data (see conclusion)."
   ]
  },
  {
   "cell_type": "markdown",
   "metadata": {},
   "source": [
    "** Getting and preprocessing the data**  \n",
    "Fortunately the data fits in memory, so we can just load it into python and analyse it. There is the option of downloading csv files or using a MySQL data base. I chose to use the *sqlalchemy* python package to load the data from the MySQL data base. And do subsequent analysis in python.  \n",
    "\n",
    "What follows is the result of the built model. See the comments in the code for a further technical explanation.\n"
   ]
  },
  {
   "cell_type": "code",
   "execution_count": 15,
   "metadata": {
    "collapsed": false
   },
   "outputs": [
    {
     "name": "stdout",
     "output_type": "stream",
     "text": [
      "Reading data from MySQL into data frames...\n",
      "Determining adopted users...\n",
      "Done reading in data.\n",
      "Preprocessing features...\n",
      "Done preprocessing.\n",
      "\n"
     ]
    }
   ],
   "source": [
    "from feature_analysis import FeatureAnalysis\n",
    "%matplotlib inline\n",
    "fa=FeatureAnalysis()\n",
    "fa.preprocess_features()"
   ]
  },
  {
   "cell_type": "markdown",
   "metadata": {},
   "source": [
    "**Exploratory work**  \n",
    "First of all, after getting and preprocessing the data, let's take a look at how the various features are distributed between adopted and not adopted users. To do this, we caluculate the proportion for each feature with respect to an adopted or a non-adopted user. These values can be plotted in a histogram to quickly inspect visually if there are any large discrepancies in relative occurence of the features between classes. On the x-axis are the features, on the y-axis the occurence percentages.  \n",
    "*It is clear from the figure above that the features are pretty evenly distributed among the classes.*"
   ]
  },
  {
   "cell_type": "code",
   "execution_count": 16,
   "metadata": {
    "collapsed": false
   },
   "outputs": [
    {
     "data": {
      "image/png": "[encoded data removed]",
      "text/plain": [
       "<matplotlib.figure.Figure at 0x7ffe132165d0>"
      ]
     },
     "metadata": {},
     "output_type": "display_data"
    }
   ],
   "source": [
    "fa.plot_histogram()"
   ]
  },
  {
   "cell_type": "markdown",
   "metadata": {},
   "source": [
    "**Finding the import features**  \n",
    "A random forest classifier model is a good choice to assess this data set and investigate the predictive power of the (mostly binary) features. Using a random forest, one can omit cross validation and it will work reasonably well with its default parameters. However some parameters ARE tweaked for increasing model performance (see code). \n",
    "Besides, during fitting of the classifier the *out of bag* error is estimated, an indication of the model performance. Afer fitting the model, you can find out which features have the most predicitve power. \n",
    "\n",
    "A problem in this case is that the classes are quite unbalanced (12000 total users, ~1600 adopted ones). Random forests can struggle in these scenarios, fortunately we can account for this when initializing the model using the \"class_weight\" parameter.  \n",
    "\n",
    "After fitting the model, the output is as follows:"
   ]
  },
  {
   "cell_type": "code",
   "execution_count": 17,
   "metadata": {
    "collapsed": false
   },
   "outputs": [
    {
     "name": "stdout",
     "output_type": "stream",
     "text": [
      "Model Out Of Bag Error: 0.553541666667\n",
      "\n",
      "Precision: 0.147317073171\n",
      "Recall: 0.471875\n",
      "F1_score: 0.224535315985\n",
      "\n",
      "Feature Importances:\n",
      "PERSONAL_PROJECTS; 0.452171251491\n",
      "SIGNUP_GOOGLE_AUTH; 0.152725680309\n",
      "GUEST_INVITE; 0.107655805652\n",
      "enabled_for_marketing_drip; 0.0775793321977\n",
      "opted_in_to_mailing_list; 0.0670174704876\n",
      "invited_by_user_id; 0.058277671353\n",
      "ORG_INVITE; 0.0440204690996\n",
      "SIGNUP; 0.0405523194105\n"
     ]
    }
   ],
   "source": [
    "fa.do_random_forest()"
   ]
  },
  {
   "cell_type": "markdown",
   "metadata": {},
   "source": [
    "First off, we can see that the OOB error is high, the other performance metrics precision, recall (and the f1 score) are pretty horrible as well. The recall is the \"best\", meaning that the model is doing a better job at avoiding false negatives than avoiding false positives. But overall this is poor performance.\n",
    "\n",
    "It is clear that the model perform poorly, see the conclusion and recommendations sections for suggestions on how to improve the quality of the model.\n",
    "\n",
    "Three of the features seem to be giving some signal. The top one is the PERSONAL_PROJECTS feature which indicates that the user was invited to somebody's private workspace. It makes sense that this could be an indicator for adoption.  \n",
    "Users who sign up using their google account may already have an intention to integrate the product into their day-to-day workflow."
   ]
  },
  {
   "cell_type": "markdown",
   "metadata": {},
   "source": [
    "**Conclusions and recommendations**  \n",
    "The analysis above concludes that there are a couple of features that seem to be the most powerful for predicting whether or not a user will be an adopter. However, overall model performance is poor and therfore I would not put too much faith in the predictive power of those features.\n",
    "\n",
    "Given more time and if I were to build out this model to be useful in a production environment, I would do a couple of things:\n",
    "\n",
    "First of all, I would implement proper error handling and testing. Currently there is no error handling whatsoever, nor any regression tests implemented.  \n",
    "\n",
    "Secondly, I would create extra features through feature engineering. I've got a sense that there may be signal in a couple of things:  \n",
    "* If an adopted user (one with many and recent product engagements) invites a new user, is this new user more likely to become adopted as well?  \n",
    "* There could also be signal in which organisation (or group of users) is inviting the user (the org_id column). Perhaps the activity of the inviting group of users has got a positive effect on the activity of the invited user.  \n",
    "\n",
    "In conclusion, this could prove to be a pretty tough model to build just based on this data. I would look to see if I can find other (user engagement, product usage statistics) data to supplement."
   ]
  },
  {
   "cell_type": "code",
   "execution_count": null,
   "metadata": {
    "collapsed": true
   },
   "outputs": [],
   "source": []
  }
 ],
 "metadata": {
  "kernelspec": {
   "display_name": "Python 2",
   "language": "python",
   "name": "python2"
  },
  "language_info": {
   "codemirror_mode": {
    "name": "ipython",
    "version": 2
   },
   "file_extension": ".py",
   "mimetype": "text/x-python",
   "name": "python",
   "nbconvert_exporter": "python",
   "pygments_lexer": "ipython2",
   "version": "2.7.11"
  }
 },
 "nbformat": 4,
 "nbformat_minor": 0
}
